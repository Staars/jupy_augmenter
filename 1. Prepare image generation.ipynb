{
 "cells": [
  {
   "cell_type": "code",
   "execution_count": 1,
   "metadata": {},
   "outputs": [],
   "source": [
    "import os\n",
    "import numpy as np\n",
    "import shutil\n",
    "\n",
    "from PIL import Image\n",
    "\n",
    "%matplotlib inline\n",
    "import matplotlib.pyplot as plt\n",
    "import matplotlib.image as mpimg"
   ]
  },
  {
   "cell_type": "code",
   "execution_count": 2,
   "metadata": {},
   "outputs": [],
   "source": [
    "# Declare variables\n",
    "IMAGES = './images/'\n",
    "AUGMENTED = './augmented/'\n",
    "image_list = []\n"
   ]
  },
  {
   "cell_type": "markdown",
   "metadata": {},
   "source": [
    "## input Images\n",
    "* These are placed in `./images`"
   ]
  },
  {
   "cell_type": "code",
   "execution_count": 7,
   "metadata": {},
   "outputs": [
    {
     "name": "stdout",
     "output_type": "stream",
     "text": [
      "Found 80images\n"
     ]
    },
    {
     "data": {
      "image/png": "[encoded data removed]",
      "text/plain": [
       "<Figure size 640x480 with 1 Axes>"
      ]
     },
     "metadata": {},
     "output_type": "display_data"
    }
   ],
   "source": [
    "# check input\n",
    "if os.path.exists(IMAGES):\n",
    "    for file in os.listdir(IMAGES):\n",
    "        if not os.path.isdir(file):\n",
    "            # Modify the image to set the needle at 0 degrees\n",
    "            try:\n",
    "                image = Image.open(IMAGES + file).convert('RGBA')\n",
    "            except:\n",
    "                continue\n",
    "            image_list.append(IMAGES + file)\n",
    "            plt.imshow(image)\n",
    "print(f\"Found {len(image_list)} images\")"
   ]
  },
  {
   "cell_type": "markdown",
   "metadata": {},
   "source": [
    "### Individual folder structure for every give image"
   ]
  },
  {
   "cell_type": "code",
   "execution_count": 4,
   "metadata": {},
   "outputs": [],
   "source": [
    "# Create the folders for each of the gauge classes\n",
    "for i in image_list:\n",
    "    PATH = AUGMENTED + i.split(\"/\")[-1].split(\".\")[0]\n",
    "    try:\n",
    "        if not os.path.exists(PATH):\n",
    "            os.makedirs(PATH)\n",
    "        shutil.copy(i,PATH)\n",
    "    except OSError:\n",
    "        print ('Error: Creating directory. ' +  PATH)\n"
   ]
  }
 ],
 "metadata": {
  "kernelspec": {
   "display_name": "Python 3",
   "language": "python",
   "name": "python3"
  },
  "language_info": {
   "codemirror_mode": {
    "name": "ipython",
    "version": 3
   },
   "file_extension": ".py",
   "mimetype": "text/x-python",
   "name": "python",
   "nbconvert_exporter": "python",
   "pygments_lexer": "ipython3",
   "version": "3.11.9"
  }
 },
 "nbformat": 4,
 "nbformat_minor": 2
}
